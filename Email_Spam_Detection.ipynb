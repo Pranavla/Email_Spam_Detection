{
  "nbformat": 4,
  "nbformat_minor": 0,
  "metadata": {
    "colab": {
      "provenance": [],
      "authorship_tag": "ABX9TyODYcGof3/4Tt+aCSvbKQBU",
      "include_colab_link": true
    },
    "kernelspec": {
      "name": "python3",
      "display_name": "Python 3"
    },
    "language_info": {
      "name": "python"
    }
  },
  "cells": [
    {
      "cell_type": "markdown",
      "metadata": {
        "id": "view-in-github",
        "colab_type": "text"
      },
      "source": [
        "<a href=\"https://colab.research.google.com/github/Pranavla/Email_Spam_Detection/blob/main/Email_Spam_Detection.ipynb\" target=\"_parent\"><img src=\"https://colab.research.google.com/assets/colab-badge.svg\" alt=\"Open In Colab\"/></a>"
      ]
    },
    {
      "cell_type": "markdown",
      "source": [
        "# **Importing necessary library**"
      ],
      "metadata": {
        "id": "EaZZ85nXSrKM"
      }
    },
    {
      "cell_type": "code",
      "execution_count": null,
      "metadata": {
        "id": "iQ0fV-evRDd6"
      },
      "outputs": [],
      "source": [
        "import numpy as np\n",
        "import pandas as pd\n",
        "import seaborn as sns"
      ]
    },
    {
      "cell_type": "markdown",
      "source": [
        "# **Importing the datasets**"
      ],
      "metadata": {
        "id": "hz9fh8R1Sxq5"
      }
    },
    {
      "cell_type": "markdown",
      "source": [
        "Importing the training dataset and printing the same"
      ],
      "metadata": {
        "id": "YQqzfaCKUmJY"
      }
    },
    {
      "cell_type": "code",
      "source": [
        "df_train=pd.read_csv('/content/SMS_train.csv',encoding='ISO-8859-1')\n",
        "df_train"
      ],
      "metadata": {
        "colab": {
          "base_uri": "https://localhost:8080/",
          "height": 424
        },
        "id": "31EgDKhhRasU",
        "outputId": "736b04f9-7a94-48d8-f1be-684b1410d44a"
      },
      "execution_count": null,
      "outputs": [
        {
          "output_type": "execute_result",
          "data": {
            "text/plain": [
              "     S. No.                                       Message_body     Label\n",
              "0         1                         Rofl. Its true to its name  Non-Spam\n",
              "1         2  The guy did some bitching but I acted like i'd...  Non-Spam\n",
              "2         3  Pity, * was in mood for that. So...any other s...  Non-Spam\n",
              "3         4               Will ü b going to esplanade fr home?  Non-Spam\n",
              "4         5  This is the 2nd time we have tried 2 contact u...      Spam\n",
              "..      ...                                                ...       ...\n",
              "952     953  hows my favourite person today? r u workin har...  Non-Spam\n",
              "953     954                      How much you got for cleaning  Non-Spam\n",
              "954     955  Sorry da. I gone mad so many pending works wha...  Non-Spam\n",
              "955     956                                 Wat time ü finish?  Non-Spam\n",
              "956     957                    Just glad to be talking to you.  Non-Spam\n",
              "\n",
              "[957 rows x 3 columns]"
            ],
            "text/html": [
              "\n",
              "  <div id=\"df-d7769024-1100-4122-bf6b-30edef0920c3\">\n",
              "    <div class=\"colab-df-container\">\n",
              "      <div>\n",
              "<style scoped>\n",
              "    .dataframe tbody tr th:only-of-type {\n",
              "        vertical-align: middle;\n",
              "    }\n",
              "\n",
              "    .dataframe tbody tr th {\n",
              "        vertical-align: top;\n",
              "    }\n",
              "\n",
              "    .dataframe thead th {\n",
              "        text-align: right;\n",
              "    }\n",
              "</style>\n",
              "<table border=\"1\" class=\"dataframe\">\n",
              "  <thead>\n",
              "    <tr style=\"text-align: right;\">\n",
              "      <th></th>\n",
              "      <th>S. No.</th>\n",
              "      <th>Message_body</th>\n",
              "      <th>Label</th>\n",
              "    </tr>\n",
              "  </thead>\n",
              "  <tbody>\n",
              "    <tr>\n",
              "      <th>0</th>\n",
              "      <td>1</td>\n",
              "      <td>Rofl. Its true to its name</td>\n",
              "      <td>Non-Spam</td>\n",
              "    </tr>\n",
              "    <tr>\n",
              "      <th>1</th>\n",
              "      <td>2</td>\n",
              "      <td>The guy did some bitching but I acted like i'd...</td>\n",
              "      <td>Non-Spam</td>\n",
              "    </tr>\n",
              "    <tr>\n",
              "      <th>2</th>\n",
              "      <td>3</td>\n",
              "      <td>Pity, * was in mood for that. So...any other s...</td>\n",
              "      <td>Non-Spam</td>\n",
              "    </tr>\n",
              "    <tr>\n",
              "      <th>3</th>\n",
              "      <td>4</td>\n",
              "      <td>Will ü b going to esplanade fr home?</td>\n",
              "      <td>Non-Spam</td>\n",
              "    </tr>\n",
              "    <tr>\n",
              "      <th>4</th>\n",
              "      <td>5</td>\n",
              "      <td>This is the 2nd time we have tried 2 contact u...</td>\n",
              "      <td>Spam</td>\n",
              "    </tr>\n",
              "    <tr>\n",
              "      <th>...</th>\n",
              "      <td>...</td>\n",
              "      <td>...</td>\n",
              "      <td>...</td>\n",
              "    </tr>\n",
              "    <tr>\n",
              "      <th>952</th>\n",
              "      <td>953</td>\n",
              "      <td>hows my favourite person today? r u workin har...</td>\n",
              "      <td>Non-Spam</td>\n",
              "    </tr>\n",
              "    <tr>\n",
              "      <th>953</th>\n",
              "      <td>954</td>\n",
              "      <td>How much you got for cleaning</td>\n",
              "      <td>Non-Spam</td>\n",
              "    </tr>\n",
              "    <tr>\n",
              "      <th>954</th>\n",
              "      <td>955</td>\n",
              "      <td>Sorry da. I gone mad so many pending works wha...</td>\n",
              "      <td>Non-Spam</td>\n",
              "    </tr>\n",
              "    <tr>\n",
              "      <th>955</th>\n",
              "      <td>956</td>\n",
              "      <td>Wat time ü finish?</td>\n",
              "      <td>Non-Spam</td>\n",
              "    </tr>\n",
              "    <tr>\n",
              "      <th>956</th>\n",
              "      <td>957</td>\n",
              "      <td>Just glad to be talking to you.</td>\n",
              "      <td>Non-Spam</td>\n",
              "    </tr>\n",
              "  </tbody>\n",
              "</table>\n",
              "<p>957 rows × 3 columns</p>\n",
              "</div>\n",
              "      <button class=\"colab-df-convert\" onclick=\"convertToInteractive('df-d7769024-1100-4122-bf6b-30edef0920c3')\"\n",
              "              title=\"Convert this dataframe to an interactive table.\"\n",
              "              style=\"display:none;\">\n",
              "        \n",
              "  <svg xmlns=\"http://www.w3.org/2000/svg\" height=\"24px\"viewBox=\"0 0 24 24\"\n",
              "       width=\"24px\">\n",
              "    <path d=\"M0 0h24v24H0V0z\" fill=\"none\"/>\n",
              "    <path d=\"M18.56 5.44l.94 2.06.94-2.06 2.06-.94-2.06-.94-.94-2.06-.94 2.06-2.06.94zm-11 1L8.5 8.5l.94-2.06 2.06-.94-2.06-.94L8.5 2.5l-.94 2.06-2.06.94zm10 10l.94 2.06.94-2.06 2.06-.94-2.06-.94-.94-2.06-.94 2.06-2.06.94z\"/><path d=\"M17.41 7.96l-1.37-1.37c-.4-.4-.92-.59-1.43-.59-.52 0-1.04.2-1.43.59L10.3 9.45l-7.72 7.72c-.78.78-.78 2.05 0 2.83L4 21.41c.39.39.9.59 1.41.59.51 0 1.02-.2 1.41-.59l7.78-7.78 2.81-2.81c.8-.78.8-2.07 0-2.86zM5.41 20L4 18.59l7.72-7.72 1.47 1.35L5.41 20z\"/>\n",
              "  </svg>\n",
              "      </button>\n",
              "      \n",
              "  <style>\n",
              "    .colab-df-container {\n",
              "      display:flex;\n",
              "      flex-wrap:wrap;\n",
              "      gap: 12px;\n",
              "    }\n",
              "\n",
              "    .colab-df-convert {\n",
              "      background-color: #E8F0FE;\n",
              "      border: none;\n",
              "      border-radius: 50%;\n",
              "      cursor: pointer;\n",
              "      display: none;\n",
              "      fill: #1967D2;\n",
              "      height: 32px;\n",
              "      padding: 0 0 0 0;\n",
              "      width: 32px;\n",
              "    }\n",
              "\n",
              "    .colab-df-convert:hover {\n",
              "      background-color: #E2EBFA;\n",
              "      box-shadow: 0px 1px 2px rgba(60, 64, 67, 0.3), 0px 1px 3px 1px rgba(60, 64, 67, 0.15);\n",
              "      fill: #174EA6;\n",
              "    }\n",
              "\n",
              "    [theme=dark] .colab-df-convert {\n",
              "      background-color: #3B4455;\n",
              "      fill: #D2E3FC;\n",
              "    }\n",
              "\n",
              "    [theme=dark] .colab-df-convert:hover {\n",
              "      background-color: #434B5C;\n",
              "      box-shadow: 0px 1px 3px 1px rgba(0, 0, 0, 0.15);\n",
              "      filter: drop-shadow(0px 1px 2px rgba(0, 0, 0, 0.3));\n",
              "      fill: #FFFFFF;\n",
              "    }\n",
              "  </style>\n",
              "\n",
              "      <script>\n",
              "        const buttonEl =\n",
              "          document.querySelector('#df-d7769024-1100-4122-bf6b-30edef0920c3 button.colab-df-convert');\n",
              "        buttonEl.style.display =\n",
              "          google.colab.kernel.accessAllowed ? 'block' : 'none';\n",
              "\n",
              "        async function convertToInteractive(key) {\n",
              "          const element = document.querySelector('#df-d7769024-1100-4122-bf6b-30edef0920c3');\n",
              "          const dataTable =\n",
              "            await google.colab.kernel.invokeFunction('convertToInteractive',\n",
              "                                                     [key], {});\n",
              "          if (!dataTable) return;\n",
              "\n",
              "          const docLinkHtml = 'Like what you see? Visit the ' +\n",
              "            '<a target=\"_blank\" href=https://colab.research.google.com/notebooks/data_table.ipynb>data table notebook</a>'\n",
              "            + ' to learn more about interactive tables.';\n",
              "          element.innerHTML = '';\n",
              "          dataTable['output_type'] = 'display_data';\n",
              "          await google.colab.output.renderOutput(dataTable, element);\n",
              "          const docLink = document.createElement('div');\n",
              "          docLink.innerHTML = docLinkHtml;\n",
              "          element.appendChild(docLink);\n",
              "        }\n",
              "      </script>\n",
              "    </div>\n",
              "  </div>\n",
              "  "
            ]
          },
          "metadata": {},
          "execution_count": 71
        }
      ]
    },
    {
      "cell_type": "markdown",
      "source": [
        "We can understand that the dataset is having 3 columns with title 'S. No.' , 'Message_body', 'Label' and having 957 rows"
      ],
      "metadata": {
        "id": "_eGEZ9FthdmC"
      }
    },
    {
      "cell_type": "markdown",
      "source": [
        "## Importing and printing the testing dataset "
      ],
      "metadata": {
        "id": "Pq6HC1Q2Utn2"
      }
    },
    {
      "cell_type": "code",
      "source": [
        "df_test=pd.read_csv('/content/SMS_test.csv',encoding='ISO-8859-1')\n",
        "df_test"
      ],
      "metadata": {
        "colab": {
          "base_uri": "https://localhost:8080/",
          "height": 424
        },
        "id": "3vNQrokaR8Ku",
        "outputId": "da76dba9-cc75-4fec-8306-c11d27241dea"
      },
      "execution_count": null,
      "outputs": [
        {
          "output_type": "execute_result",
          "data": {
            "text/plain": [
              "     S. No.                                       Message_body     Label\n",
              "0         1  UpgrdCentre Orange customer, you may now claim...      Spam\n",
              "1         2  Loan for any purpose £500 - £75,000. Homeowner...      Spam\n",
              "2         3  Congrats! Nokia 3650 video camera phone is you...      Spam\n",
              "3         4  URGENT! Your Mobile number has been awarded wi...      Spam\n",
              "4         5  Someone has contacted our dating service and e...      Spam\n",
              "..      ...                                                ...       ...\n",
              "120     121  7 wonders in My WORLD 7th You 6th Ur style 5th...  Non-Spam\n",
              "121     122  Try to do something dear. You read something f...  Non-Spam\n",
              "122     123  Sun ah... Thk mayb can if dun have anythin on....  Non-Spam\n",
              "123     124  SYMPTOMS when U are in love: \"1.U like listeni...  Non-Spam\n",
              "124     125  Great. Have a safe trip. Dont panic surrender ...  Non-Spam\n",
              "\n",
              "[125 rows x 3 columns]"
            ],
            "text/html": [
              "\n",
              "  <div id=\"df-f5c54582-f7e2-4735-bd26-ef015dca420b\">\n",
              "    <div class=\"colab-df-container\">\n",
              "      <div>\n",
              "<style scoped>\n",
              "    .dataframe tbody tr th:only-of-type {\n",
              "        vertical-align: middle;\n",
              "    }\n",
              "\n",
              "    .dataframe tbody tr th {\n",
              "        vertical-align: top;\n",
              "    }\n",
              "\n",
              "    .dataframe thead th {\n",
              "        text-align: right;\n",
              "    }\n",
              "</style>\n",
              "<table border=\"1\" class=\"dataframe\">\n",
              "  <thead>\n",
              "    <tr style=\"text-align: right;\">\n",
              "      <th></th>\n",
              "      <th>S. No.</th>\n",
              "      <th>Message_body</th>\n",
              "      <th>Label</th>\n",
              "    </tr>\n",
              "  </thead>\n",
              "  <tbody>\n",
              "    <tr>\n",
              "      <th>0</th>\n",
              "      <td>1</td>\n",
              "      <td>UpgrdCentre Orange customer, you may now claim...</td>\n",
              "      <td>Spam</td>\n",
              "    </tr>\n",
              "    <tr>\n",
              "      <th>1</th>\n",
              "      <td>2</td>\n",
              "      <td>Loan for any purpose £500 - £75,000. Homeowner...</td>\n",
              "      <td>Spam</td>\n",
              "    </tr>\n",
              "    <tr>\n",
              "      <th>2</th>\n",
              "      <td>3</td>\n",
              "      <td>Congrats! Nokia 3650 video camera phone is you...</td>\n",
              "      <td>Spam</td>\n",
              "    </tr>\n",
              "    <tr>\n",
              "      <th>3</th>\n",
              "      <td>4</td>\n",
              "      <td>URGENT! Your Mobile number has been awarded wi...</td>\n",
              "      <td>Spam</td>\n",
              "    </tr>\n",
              "    <tr>\n",
              "      <th>4</th>\n",
              "      <td>5</td>\n",
              "      <td>Someone has contacted our dating service and e...</td>\n",
              "      <td>Spam</td>\n",
              "    </tr>\n",
              "    <tr>\n",
              "      <th>...</th>\n",
              "      <td>...</td>\n",
              "      <td>...</td>\n",
              "      <td>...</td>\n",
              "    </tr>\n",
              "    <tr>\n",
              "      <th>120</th>\n",
              "      <td>121</td>\n",
              "      <td>7 wonders in My WORLD 7th You 6th Ur style 5th...</td>\n",
              "      <td>Non-Spam</td>\n",
              "    </tr>\n",
              "    <tr>\n",
              "      <th>121</th>\n",
              "      <td>122</td>\n",
              "      <td>Try to do something dear. You read something f...</td>\n",
              "      <td>Non-Spam</td>\n",
              "    </tr>\n",
              "    <tr>\n",
              "      <th>122</th>\n",
              "      <td>123</td>\n",
              "      <td>Sun ah... Thk mayb can if dun have anythin on....</td>\n",
              "      <td>Non-Spam</td>\n",
              "    </tr>\n",
              "    <tr>\n",
              "      <th>123</th>\n",
              "      <td>124</td>\n",
              "      <td>SYMPTOMS when U are in love: \"1.U like listeni...</td>\n",
              "      <td>Non-Spam</td>\n",
              "    </tr>\n",
              "    <tr>\n",
              "      <th>124</th>\n",
              "      <td>125</td>\n",
              "      <td>Great. Have a safe trip. Dont panic surrender ...</td>\n",
              "      <td>Non-Spam</td>\n",
              "    </tr>\n",
              "  </tbody>\n",
              "</table>\n",
              "<p>125 rows × 3 columns</p>\n",
              "</div>\n",
              "      <button class=\"colab-df-convert\" onclick=\"convertToInteractive('df-f5c54582-f7e2-4735-bd26-ef015dca420b')\"\n",
              "              title=\"Convert this dataframe to an interactive table.\"\n",
              "              style=\"display:none;\">\n",
              "        \n",
              "  <svg xmlns=\"http://www.w3.org/2000/svg\" height=\"24px\"viewBox=\"0 0 24 24\"\n",
              "       width=\"24px\">\n",
              "    <path d=\"M0 0h24v24H0V0z\" fill=\"none\"/>\n",
              "    <path d=\"M18.56 5.44l.94 2.06.94-2.06 2.06-.94-2.06-.94-.94-2.06-.94 2.06-2.06.94zm-11 1L8.5 8.5l.94-2.06 2.06-.94-2.06-.94L8.5 2.5l-.94 2.06-2.06.94zm10 10l.94 2.06.94-2.06 2.06-.94-2.06-.94-.94-2.06-.94 2.06-2.06.94z\"/><path d=\"M17.41 7.96l-1.37-1.37c-.4-.4-.92-.59-1.43-.59-.52 0-1.04.2-1.43.59L10.3 9.45l-7.72 7.72c-.78.78-.78 2.05 0 2.83L4 21.41c.39.39.9.59 1.41.59.51 0 1.02-.2 1.41-.59l7.78-7.78 2.81-2.81c.8-.78.8-2.07 0-2.86zM5.41 20L4 18.59l7.72-7.72 1.47 1.35L5.41 20z\"/>\n",
              "  </svg>\n",
              "      </button>\n",
              "      \n",
              "  <style>\n",
              "    .colab-df-container {\n",
              "      display:flex;\n",
              "      flex-wrap:wrap;\n",
              "      gap: 12px;\n",
              "    }\n",
              "\n",
              "    .colab-df-convert {\n",
              "      background-color: #E8F0FE;\n",
              "      border: none;\n",
              "      border-radius: 50%;\n",
              "      cursor: pointer;\n",
              "      display: none;\n",
              "      fill: #1967D2;\n",
              "      height: 32px;\n",
              "      padding: 0 0 0 0;\n",
              "      width: 32px;\n",
              "    }\n",
              "\n",
              "    .colab-df-convert:hover {\n",
              "      background-color: #E2EBFA;\n",
              "      box-shadow: 0px 1px 2px rgba(60, 64, 67, 0.3), 0px 1px 3px 1px rgba(60, 64, 67, 0.15);\n",
              "      fill: #174EA6;\n",
              "    }\n",
              "\n",
              "    [theme=dark] .colab-df-convert {\n",
              "      background-color: #3B4455;\n",
              "      fill: #D2E3FC;\n",
              "    }\n",
              "\n",
              "    [theme=dark] .colab-df-convert:hover {\n",
              "      background-color: #434B5C;\n",
              "      box-shadow: 0px 1px 3px 1px rgba(0, 0, 0, 0.15);\n",
              "      filter: drop-shadow(0px 1px 2px rgba(0, 0, 0, 0.3));\n",
              "      fill: #FFFFFF;\n",
              "    }\n",
              "  </style>\n",
              "\n",
              "      <script>\n",
              "        const buttonEl =\n",
              "          document.querySelector('#df-f5c54582-f7e2-4735-bd26-ef015dca420b button.colab-df-convert');\n",
              "        buttonEl.style.display =\n",
              "          google.colab.kernel.accessAllowed ? 'block' : 'none';\n",
              "\n",
              "        async function convertToInteractive(key) {\n",
              "          const element = document.querySelector('#df-f5c54582-f7e2-4735-bd26-ef015dca420b');\n",
              "          const dataTable =\n",
              "            await google.colab.kernel.invokeFunction('convertToInteractive',\n",
              "                                                     [key], {});\n",
              "          if (!dataTable) return;\n",
              "\n",
              "          const docLinkHtml = 'Like what you see? Visit the ' +\n",
              "            '<a target=\"_blank\" href=https://colab.research.google.com/notebooks/data_table.ipynb>data table notebook</a>'\n",
              "            + ' to learn more about interactive tables.';\n",
              "          element.innerHTML = '';\n",
              "          dataTable['output_type'] = 'display_data';\n",
              "          await google.colab.output.renderOutput(dataTable, element);\n",
              "          const docLink = document.createElement('div');\n",
              "          docLink.innerHTML = docLinkHtml;\n",
              "          element.appendChild(docLink);\n",
              "        }\n",
              "      </script>\n",
              "    </div>\n",
              "  </div>\n",
              "  "
            ]
          },
          "metadata": {},
          "execution_count": 72
        }
      ]
    },
    {
      "cell_type": "markdown",
      "source": [
        "In this dataset also there are 3 columns as the same name of previous dataset and 125 no: of rows. Since both datasets are having same columns it is better to combine both and work on the combined dataset, because the combined dataset having more data ,the overall training and learing of machine increases.   "
      ],
      "metadata": {
        "id": "LjjMItpUirj_"
      }
    },
    {
      "cell_type": "markdown",
      "source": [
        "## combining both train and test datasets"
      ],
      "metadata": {
        "id": "n83J5S1aTHZF"
      }
    },
    {
      "cell_type": "code",
      "source": [
        "df=pd.concat([df_train,df_test],ignore_index=True,axis=0)\n",
        "df"
      ],
      "metadata": {
        "colab": {
          "base_uri": "https://localhost:8080/",
          "height": 424
        },
        "id": "rBiX_FqzSPLo",
        "outputId": "e2c2d3ca-7d40-440c-cc60-bc78c7b1c02a"
      },
      "execution_count": null,
      "outputs": [
        {
          "output_type": "execute_result",
          "data": {
            "text/plain": [
              "      S. No.                                       Message_body     Label\n",
              "0          1                         Rofl. Its true to its name  Non-Spam\n",
              "1          2  The guy did some bitching but I acted like i'd...  Non-Spam\n",
              "2          3  Pity, * was in mood for that. So...any other s...  Non-Spam\n",
              "3          4               Will ü b going to esplanade fr home?  Non-Spam\n",
              "4          5  This is the 2nd time we have tried 2 contact u...      Spam\n",
              "...      ...                                                ...       ...\n",
              "1077     121  7 wonders in My WORLD 7th You 6th Ur style 5th...  Non-Spam\n",
              "1078     122  Try to do something dear. You read something f...  Non-Spam\n",
              "1079     123  Sun ah... Thk mayb can if dun have anythin on....  Non-Spam\n",
              "1080     124  SYMPTOMS when U are in love: \"1.U like listeni...  Non-Spam\n",
              "1081     125  Great. Have a safe trip. Dont panic surrender ...  Non-Spam\n",
              "\n",
              "[1082 rows x 3 columns]"
            ],
            "text/html": [
              "\n",
              "  <div id=\"df-898f6045-0e59-41ac-8884-ed552abb6fe4\">\n",
              "    <div class=\"colab-df-container\">\n",
              "      <div>\n",
              "<style scoped>\n",
              "    .dataframe tbody tr th:only-of-type {\n",
              "        vertical-align: middle;\n",
              "    }\n",
              "\n",
              "    .dataframe tbody tr th {\n",
              "        vertical-align: top;\n",
              "    }\n",
              "\n",
              "    .dataframe thead th {\n",
              "        text-align: right;\n",
              "    }\n",
              "</style>\n",
              "<table border=\"1\" class=\"dataframe\">\n",
              "  <thead>\n",
              "    <tr style=\"text-align: right;\">\n",
              "      <th></th>\n",
              "      <th>S. No.</th>\n",
              "      <th>Message_body</th>\n",
              "      <th>Label</th>\n",
              "    </tr>\n",
              "  </thead>\n",
              "  <tbody>\n",
              "    <tr>\n",
              "      <th>0</th>\n",
              "      <td>1</td>\n",
              "      <td>Rofl. Its true to its name</td>\n",
              "      <td>Non-Spam</td>\n",
              "    </tr>\n",
              "    <tr>\n",
              "      <th>1</th>\n",
              "      <td>2</td>\n",
              "      <td>The guy did some bitching but I acted like i'd...</td>\n",
              "      <td>Non-Spam</td>\n",
              "    </tr>\n",
              "    <tr>\n",
              "      <th>2</th>\n",
              "      <td>3</td>\n",
              "      <td>Pity, * was in mood for that. So...any other s...</td>\n",
              "      <td>Non-Spam</td>\n",
              "    </tr>\n",
              "    <tr>\n",
              "      <th>3</th>\n",
              "      <td>4</td>\n",
              "      <td>Will ü b going to esplanade fr home?</td>\n",
              "      <td>Non-Spam</td>\n",
              "    </tr>\n",
              "    <tr>\n",
              "      <th>4</th>\n",
              "      <td>5</td>\n",
              "      <td>This is the 2nd time we have tried 2 contact u...</td>\n",
              "      <td>Spam</td>\n",
              "    </tr>\n",
              "    <tr>\n",
              "      <th>...</th>\n",
              "      <td>...</td>\n",
              "      <td>...</td>\n",
              "      <td>...</td>\n",
              "    </tr>\n",
              "    <tr>\n",
              "      <th>1077</th>\n",
              "      <td>121</td>\n",
              "      <td>7 wonders in My WORLD 7th You 6th Ur style 5th...</td>\n",
              "      <td>Non-Spam</td>\n",
              "    </tr>\n",
              "    <tr>\n",
              "      <th>1078</th>\n",
              "      <td>122</td>\n",
              "      <td>Try to do something dear. You read something f...</td>\n",
              "      <td>Non-Spam</td>\n",
              "    </tr>\n",
              "    <tr>\n",
              "      <th>1079</th>\n",
              "      <td>123</td>\n",
              "      <td>Sun ah... Thk mayb can if dun have anythin on....</td>\n",
              "      <td>Non-Spam</td>\n",
              "    </tr>\n",
              "    <tr>\n",
              "      <th>1080</th>\n",
              "      <td>124</td>\n",
              "      <td>SYMPTOMS when U are in love: \"1.U like listeni...</td>\n",
              "      <td>Non-Spam</td>\n",
              "    </tr>\n",
              "    <tr>\n",
              "      <th>1081</th>\n",
              "      <td>125</td>\n",
              "      <td>Great. Have a safe trip. Dont panic surrender ...</td>\n",
              "      <td>Non-Spam</td>\n",
              "    </tr>\n",
              "  </tbody>\n",
              "</table>\n",
              "<p>1082 rows × 3 columns</p>\n",
              "</div>\n",
              "      <button class=\"colab-df-convert\" onclick=\"convertToInteractive('df-898f6045-0e59-41ac-8884-ed552abb6fe4')\"\n",
              "              title=\"Convert this dataframe to an interactive table.\"\n",
              "              style=\"display:none;\">\n",
              "        \n",
              "  <svg xmlns=\"http://www.w3.org/2000/svg\" height=\"24px\"viewBox=\"0 0 24 24\"\n",
              "       width=\"24px\">\n",
              "    <path d=\"M0 0h24v24H0V0z\" fill=\"none\"/>\n",
              "    <path d=\"M18.56 5.44l.94 2.06.94-2.06 2.06-.94-2.06-.94-.94-2.06-.94 2.06-2.06.94zm-11 1L8.5 8.5l.94-2.06 2.06-.94-2.06-.94L8.5 2.5l-.94 2.06-2.06.94zm10 10l.94 2.06.94-2.06 2.06-.94-2.06-.94-.94-2.06-.94 2.06-2.06.94z\"/><path d=\"M17.41 7.96l-1.37-1.37c-.4-.4-.92-.59-1.43-.59-.52 0-1.04.2-1.43.59L10.3 9.45l-7.72 7.72c-.78.78-.78 2.05 0 2.83L4 21.41c.39.39.9.59 1.41.59.51 0 1.02-.2 1.41-.59l7.78-7.78 2.81-2.81c.8-.78.8-2.07 0-2.86zM5.41 20L4 18.59l7.72-7.72 1.47 1.35L5.41 20z\"/>\n",
              "  </svg>\n",
              "      </button>\n",
              "      \n",
              "  <style>\n",
              "    .colab-df-container {\n",
              "      display:flex;\n",
              "      flex-wrap:wrap;\n",
              "      gap: 12px;\n",
              "    }\n",
              "\n",
              "    .colab-df-convert {\n",
              "      background-color: #E8F0FE;\n",
              "      border: none;\n",
              "      border-radius: 50%;\n",
              "      cursor: pointer;\n",
              "      display: none;\n",
              "      fill: #1967D2;\n",
              "      height: 32px;\n",
              "      padding: 0 0 0 0;\n",
              "      width: 32px;\n",
              "    }\n",
              "\n",
              "    .colab-df-convert:hover {\n",
              "      background-color: #E2EBFA;\n",
              "      box-shadow: 0px 1px 2px rgba(60, 64, 67, 0.3), 0px 1px 3px 1px rgba(60, 64, 67, 0.15);\n",
              "      fill: #174EA6;\n",
              "    }\n",
              "\n",
              "    [theme=dark] .colab-df-convert {\n",
              "      background-color: #3B4455;\n",
              "      fill: #D2E3FC;\n",
              "    }\n",
              "\n",
              "    [theme=dark] .colab-df-convert:hover {\n",
              "      background-color: #434B5C;\n",
              "      box-shadow: 0px 1px 3px 1px rgba(0, 0, 0, 0.15);\n",
              "      filter: drop-shadow(0px 1px 2px rgba(0, 0, 0, 0.3));\n",
              "      fill: #FFFFFF;\n",
              "    }\n",
              "  </style>\n",
              "\n",
              "      <script>\n",
              "        const buttonEl =\n",
              "          document.querySelector('#df-898f6045-0e59-41ac-8884-ed552abb6fe4 button.colab-df-convert');\n",
              "        buttonEl.style.display =\n",
              "          google.colab.kernel.accessAllowed ? 'block' : 'none';\n",
              "\n",
              "        async function convertToInteractive(key) {\n",
              "          const element = document.querySelector('#df-898f6045-0e59-41ac-8884-ed552abb6fe4');\n",
              "          const dataTable =\n",
              "            await google.colab.kernel.invokeFunction('convertToInteractive',\n",
              "                                                     [key], {});\n",
              "          if (!dataTable) return;\n",
              "\n",
              "          const docLinkHtml = 'Like what you see? Visit the ' +\n",
              "            '<a target=\"_blank\" href=https://colab.research.google.com/notebooks/data_table.ipynb>data table notebook</a>'\n",
              "            + ' to learn more about interactive tables.';\n",
              "          element.innerHTML = '';\n",
              "          dataTable['output_type'] = 'display_data';\n",
              "          await google.colab.output.renderOutput(dataTable, element);\n",
              "          const docLink = document.createElement('div');\n",
              "          docLink.innerHTML = docLinkHtml;\n",
              "          element.appendChild(docLink);\n",
              "        }\n",
              "      </script>\n",
              "    </div>\n",
              "  </div>\n",
              "  "
            ]
          },
          "metadata": {},
          "execution_count": 73
        }
      ]
    },
    {
      "cell_type": "markdown",
      "source": [
        "Here we got the combined dataset which is having 3 columns and 1082 rows.Concat is the function used for combining the datasets,\"ignore_index\" is used for ignoring the serial number of both dataset and to show only the new dataset index."
      ],
      "metadata": {
        "id": "7zlntO_Jj3K_"
      }
    },
    {
      "cell_type": "markdown",
      "source": [
        "# **Pre-processing**"
      ],
      "metadata": {
        "id": "T0ZqzioghLEa"
      }
    },
    {
      "cell_type": "markdown",
      "source": [
        "Serial number columns is not required so dropping the serial number column."
      ],
      "metadata": {
        "id": "k1rUNG7kUWY4"
      }
    },
    {
      "cell_type": "code",
      "source": [
        "df.drop(['S. No.'],axis=1,inplace=True)\n",
        "df"
      ],
      "metadata": {
        "colab": {
          "base_uri": "https://localhost:8080/",
          "height": 424
        },
        "id": "zHPooM_1Tvzw",
        "outputId": "93d62886-b2f4-45e5-a2ec-8243f6f95038"
      },
      "execution_count": null,
      "outputs": [
        {
          "output_type": "execute_result",
          "data": {
            "text/plain": [
              "                                           Message_body     Label\n",
              "0                            Rofl. Its true to its name  Non-Spam\n",
              "1     The guy did some bitching but I acted like i'd...  Non-Spam\n",
              "2     Pity, * was in mood for that. So...any other s...  Non-Spam\n",
              "3                  Will ü b going to esplanade fr home?  Non-Spam\n",
              "4     This is the 2nd time we have tried 2 contact u...      Spam\n",
              "...                                                 ...       ...\n",
              "1077  7 wonders in My WORLD 7th You 6th Ur style 5th...  Non-Spam\n",
              "1078  Try to do something dear. You read something f...  Non-Spam\n",
              "1079  Sun ah... Thk mayb can if dun have anythin on....  Non-Spam\n",
              "1080  SYMPTOMS when U are in love: \"1.U like listeni...  Non-Spam\n",
              "1081  Great. Have a safe trip. Dont panic surrender ...  Non-Spam\n",
              "\n",
              "[1082 rows x 2 columns]"
            ],
            "text/html": [
              "\n",
              "  <div id=\"df-22bab05a-fa00-41fd-9cbc-15a2b6584acd\">\n",
              "    <div class=\"colab-df-container\">\n",
              "      <div>\n",
              "<style scoped>\n",
              "    .dataframe tbody tr th:only-of-type {\n",
              "        vertical-align: middle;\n",
              "    }\n",
              "\n",
              "    .dataframe tbody tr th {\n",
              "        vertical-align: top;\n",
              "    }\n",
              "\n",
              "    .dataframe thead th {\n",
              "        text-align: right;\n",
              "    }\n",
              "</style>\n",
              "<table border=\"1\" class=\"dataframe\">\n",
              "  <thead>\n",
              "    <tr style=\"text-align: right;\">\n",
              "      <th></th>\n",
              "      <th>Message_body</th>\n",
              "      <th>Label</th>\n",
              "    </tr>\n",
              "  </thead>\n",
              "  <tbody>\n",
              "    <tr>\n",
              "      <th>0</th>\n",
              "      <td>Rofl. Its true to its name</td>\n",
              "      <td>Non-Spam</td>\n",
              "    </tr>\n",
              "    <tr>\n",
              "      <th>1</th>\n",
              "      <td>The guy did some bitching but I acted like i'd...</td>\n",
              "      <td>Non-Spam</td>\n",
              "    </tr>\n",
              "    <tr>\n",
              "      <th>2</th>\n",
              "      <td>Pity, * was in mood for that. So...any other s...</td>\n",
              "      <td>Non-Spam</td>\n",
              "    </tr>\n",
              "    <tr>\n",
              "      <th>3</th>\n",
              "      <td>Will ü b going to esplanade fr home?</td>\n",
              "      <td>Non-Spam</td>\n",
              "    </tr>\n",
              "    <tr>\n",
              "      <th>4</th>\n",
              "      <td>This is the 2nd time we have tried 2 contact u...</td>\n",
              "      <td>Spam</td>\n",
              "    </tr>\n",
              "    <tr>\n",
              "      <th>...</th>\n",
              "      <td>...</td>\n",
              "      <td>...</td>\n",
              "    </tr>\n",
              "    <tr>\n",
              "      <th>1077</th>\n",
              "      <td>7 wonders in My WORLD 7th You 6th Ur style 5th...</td>\n",
              "      <td>Non-Spam</td>\n",
              "    </tr>\n",
              "    <tr>\n",
              "      <th>1078</th>\n",
              "      <td>Try to do something dear. You read something f...</td>\n",
              "      <td>Non-Spam</td>\n",
              "    </tr>\n",
              "    <tr>\n",
              "      <th>1079</th>\n",
              "      <td>Sun ah... Thk mayb can if dun have anythin on....</td>\n",
              "      <td>Non-Spam</td>\n",
              "    </tr>\n",
              "    <tr>\n",
              "      <th>1080</th>\n",
              "      <td>SYMPTOMS when U are in love: \"1.U like listeni...</td>\n",
              "      <td>Non-Spam</td>\n",
              "    </tr>\n",
              "    <tr>\n",
              "      <th>1081</th>\n",
              "      <td>Great. Have a safe trip. Dont panic surrender ...</td>\n",
              "      <td>Non-Spam</td>\n",
              "    </tr>\n",
              "  </tbody>\n",
              "</table>\n",
              "<p>1082 rows × 2 columns</p>\n",
              "</div>\n",
              "      <button class=\"colab-df-convert\" onclick=\"convertToInteractive('df-22bab05a-fa00-41fd-9cbc-15a2b6584acd')\"\n",
              "              title=\"Convert this dataframe to an interactive table.\"\n",
              "              style=\"display:none;\">\n",
              "        \n",
              "  <svg xmlns=\"http://www.w3.org/2000/svg\" height=\"24px\"viewBox=\"0 0 24 24\"\n",
              "       width=\"24px\">\n",
              "    <path d=\"M0 0h24v24H0V0z\" fill=\"none\"/>\n",
              "    <path d=\"M18.56 5.44l.94 2.06.94-2.06 2.06-.94-2.06-.94-.94-2.06-.94 2.06-2.06.94zm-11 1L8.5 8.5l.94-2.06 2.06-.94-2.06-.94L8.5 2.5l-.94 2.06-2.06.94zm10 10l.94 2.06.94-2.06 2.06-.94-2.06-.94-.94-2.06-.94 2.06-2.06.94z\"/><path d=\"M17.41 7.96l-1.37-1.37c-.4-.4-.92-.59-1.43-.59-.52 0-1.04.2-1.43.59L10.3 9.45l-7.72 7.72c-.78.78-.78 2.05 0 2.83L4 21.41c.39.39.9.59 1.41.59.51 0 1.02-.2 1.41-.59l7.78-7.78 2.81-2.81c.8-.78.8-2.07 0-2.86zM5.41 20L4 18.59l7.72-7.72 1.47 1.35L5.41 20z\"/>\n",
              "  </svg>\n",
              "      </button>\n",
              "      \n",
              "  <style>\n",
              "    .colab-df-container {\n",
              "      display:flex;\n",
              "      flex-wrap:wrap;\n",
              "      gap: 12px;\n",
              "    }\n",
              "\n",
              "    .colab-df-convert {\n",
              "      background-color: #E8F0FE;\n",
              "      border: none;\n",
              "      border-radius: 50%;\n",
              "      cursor: pointer;\n",
              "      display: none;\n",
              "      fill: #1967D2;\n",
              "      height: 32px;\n",
              "      padding: 0 0 0 0;\n",
              "      width: 32px;\n",
              "    }\n",
              "\n",
              "    .colab-df-convert:hover {\n",
              "      background-color: #E2EBFA;\n",
              "      box-shadow: 0px 1px 2px rgba(60, 64, 67, 0.3), 0px 1px 3px 1px rgba(60, 64, 67, 0.15);\n",
              "      fill: #174EA6;\n",
              "    }\n",
              "\n",
              "    [theme=dark] .colab-df-convert {\n",
              "      background-color: #3B4455;\n",
              "      fill: #D2E3FC;\n",
              "    }\n",
              "\n",
              "    [theme=dark] .colab-df-convert:hover {\n",
              "      background-color: #434B5C;\n",
              "      box-shadow: 0px 1px 3px 1px rgba(0, 0, 0, 0.15);\n",
              "      filter: drop-shadow(0px 1px 2px rgba(0, 0, 0, 0.3));\n",
              "      fill: #FFFFFF;\n",
              "    }\n",
              "  </style>\n",
              "\n",
              "      <script>\n",
              "        const buttonEl =\n",
              "          document.querySelector('#df-22bab05a-fa00-41fd-9cbc-15a2b6584acd button.colab-df-convert');\n",
              "        buttonEl.style.display =\n",
              "          google.colab.kernel.accessAllowed ? 'block' : 'none';\n",
              "\n",
              "        async function convertToInteractive(key) {\n",
              "          const element = document.querySelector('#df-22bab05a-fa00-41fd-9cbc-15a2b6584acd');\n",
              "          const dataTable =\n",
              "            await google.colab.kernel.invokeFunction('convertToInteractive',\n",
              "                                                     [key], {});\n",
              "          if (!dataTable) return;\n",
              "\n",
              "          const docLinkHtml = 'Like what you see? Visit the ' +\n",
              "            '<a target=\"_blank\" href=https://colab.research.google.com/notebooks/data_table.ipynb>data table notebook</a>'\n",
              "            + ' to learn more about interactive tables.';\n",
              "          element.innerHTML = '';\n",
              "          dataTable['output_type'] = 'display_data';\n",
              "          await google.colab.output.renderOutput(dataTable, element);\n",
              "          const docLink = document.createElement('div');\n",
              "          docLink.innerHTML = docLinkHtml;\n",
              "          element.appendChild(docLink);\n",
              "        }\n",
              "      </script>\n",
              "    </div>\n",
              "  </div>\n",
              "  "
            ]
          },
          "metadata": {},
          "execution_count": 74
        }
      ]
    },
    {
      "cell_type": "markdown",
      "source": [
        "## Coutning the number of missing values"
      ],
      "metadata": {
        "id": "-pbDtxNQVz_q"
      }
    },
    {
      "cell_type": "code",
      "source": [
        "df.isna().sum()"
      ],
      "metadata": {
        "colab": {
          "base_uri": "https://localhost:8080/"
        },
        "id": "y2oT2ljvUGLB",
        "outputId": "9a30fc25-bf9d-4c65-a3ec-54a2a2220222"
      },
      "execution_count": null,
      "outputs": [
        {
          "output_type": "execute_result",
          "data": {
            "text/plain": [
              "Message_body    0\n",
              "Label           0\n",
              "dtype: int64"
            ]
          },
          "metadata": {},
          "execution_count": 75
        }
      ]
    },
    {
      "cell_type": "markdown",
      "source": [
        "## Finding the unique values in label column"
      ],
      "metadata": {
        "id": "U5jabE9PVCBD"
      }
    },
    {
      "cell_type": "code",
      "source": [
        "df['Label'].unique()"
      ],
      "metadata": {
        "colab": {
          "base_uri": "https://localhost:8080/"
        },
        "id": "6O6hC6hkU70d",
        "outputId": "12807d77-b132-4467-dfc4-8914b4c69425"
      },
      "execution_count": null,
      "outputs": [
        {
          "output_type": "execute_result",
          "data": {
            "text/plain": [
              "array(['Non-Spam', 'Spam'], dtype=object)"
            ]
          },
          "metadata": {},
          "execution_count": 76
        }
      ]
    },
    {
      "cell_type": "markdown",
      "source": [
        "## Representing the count of spam and non spam using a plot diagram"
      ],
      "metadata": {
        "id": "wrSOgZwvVKto"
      }
    },
    {
      "cell_type": "code",
      "source": [
        "sns.countplot('Label',data=df)"
      ],
      "metadata": {
        "colab": {
          "base_uri": "https://localhost:8080/",
          "height": 351
        },
        "id": "E-a18URpVXGF",
        "outputId": "527aeff7-ce54-4b6b-f8b6-828ca8ecbec5"
      },
      "execution_count": null,
      "outputs": [
        {
          "output_type": "stream",
          "name": "stderr",
          "text": [
            "/usr/local/lib/python3.8/dist-packages/seaborn/_decorators.py:36: FutureWarning: Pass the following variable as a keyword arg: x. From version 0.12, the only valid positional argument will be `data`, and passing other arguments without an explicit keyword will result in an error or misinterpretation.\n",
            "  warnings.warn(\n"
          ]
        },
        {
          "output_type": "execute_result",
          "data": {
            "text/plain": [
              "<matplotlib.axes._subplots.AxesSubplot at 0x7f1519a32e80>"
            ]
          },
          "metadata": {},
          "execution_count": 77
        },
        {
          "output_type": "display_data",
          "data": {
            "text/plain": [
              "<Figure size 432x288 with 1 Axes>"
            ],
            "image/png": "[encoded data removed]"
          },
          "metadata": {
            "needs_background": "light"
          }
        }
      ]
    },
    {
      "cell_type": "markdown",
      "source": [
        "Converting the spam and non-spam in label column into 1,0 using map function"
      ],
      "metadata": {
        "id": "NBGcW0UwWCqQ"
      }
    },
    {
      "cell_type": "code",
      "source": [
        "df['Label']=df['Label'].map({'Spam':1,'Non-Spam':0})\n",
        "df"
      ],
      "metadata": {
        "colab": {
          "base_uri": "https://localhost:8080/",
          "height": 424
        },
        "id": "jenlv5ANWKMb",
        "outputId": "c134609c-9f40-4585-9f8b-40a28fe37857"
      },
      "execution_count": null,
      "outputs": [
        {
          "output_type": "execute_result",
          "data": {
            "text/plain": [
              "                                           Message_body  Label\n",
              "0                            Rofl. Its true to its name      0\n",
              "1     The guy did some bitching but I acted like i'd...      0\n",
              "2     Pity, * was in mood for that. So...any other s...      0\n",
              "3                  Will ü b going to esplanade fr home?      0\n",
              "4     This is the 2nd time we have tried 2 contact u...      1\n",
              "...                                                 ...    ...\n",
              "1077  7 wonders in My WORLD 7th You 6th Ur style 5th...      0\n",
              "1078  Try to do something dear. You read something f...      0\n",
              "1079  Sun ah... Thk mayb can if dun have anythin on....      0\n",
              "1080  SYMPTOMS when U are in love: \"1.U like listeni...      0\n",
              "1081  Great. Have a safe trip. Dont panic surrender ...      0\n",
              "\n",
              "[1082 rows x 2 columns]"
            ],
            "text/html": [
              "\n",
              "  <div id=\"df-fc2af56c-55dc-44c6-a02e-2d795bbb8201\">\n",
              "    <div class=\"colab-df-container\">\n",
              "      <div>\n",
              "<style scoped>\n",
              "    .dataframe tbody tr th:only-of-type {\n",
              "        vertical-align: middle;\n",
              "    }\n",
              "\n",
              "    .dataframe tbody tr th {\n",
              "        vertical-align: top;\n",
              "    }\n",
              "\n",
              "    .dataframe thead th {\n",
              "        text-align: right;\n",
              "    }\n",
              "</style>\n",
              "<table border=\"1\" class=\"dataframe\">\n",
              "  <thead>\n",
              "    <tr style=\"text-align: right;\">\n",
              "      <th></th>\n",
              "      <th>Message_body</th>\n",
              "      <th>Label</th>\n",
              "    </tr>\n",
              "  </thead>\n",
              "  <tbody>\n",
              "    <tr>\n",
              "      <th>0</th>\n",
              "      <td>Rofl. Its true to its name</td>\n",
              "      <td>0</td>\n",
              "    </tr>\n",
              "    <tr>\n",
              "      <th>1</th>\n",
              "      <td>The guy did some bitching but I acted like i'd...</td>\n",
              "      <td>0</td>\n",
              "    </tr>\n",
              "    <tr>\n",
              "      <th>2</th>\n",
              "      <td>Pity, * was in mood for that. So...any other s...</td>\n",
              "      <td>0</td>\n",
              "    </tr>\n",
              "    <tr>\n",
              "      <th>3</th>\n",
              "      <td>Will ü b going to esplanade fr home?</td>\n",
              "      <td>0</td>\n",
              "    </tr>\n",
              "    <tr>\n",
              "      <th>4</th>\n",
              "      <td>This is the 2nd time we have tried 2 contact u...</td>\n",
              "      <td>1</td>\n",
              "    </tr>\n",
              "    <tr>\n",
              "      <th>...</th>\n",
              "      <td>...</td>\n",
              "      <td>...</td>\n",
              "    </tr>\n",
              "    <tr>\n",
              "      <th>1077</th>\n",
              "      <td>7 wonders in My WORLD 7th You 6th Ur style 5th...</td>\n",
              "      <td>0</td>\n",
              "    </tr>\n",
              "    <tr>\n",
              "      <th>1078</th>\n",
              "      <td>Try to do something dear. You read something f...</td>\n",
              "      <td>0</td>\n",
              "    </tr>\n",
              "    <tr>\n",
              "      <th>1079</th>\n",
              "      <td>Sun ah... Thk mayb can if dun have anythin on....</td>\n",
              "      <td>0</td>\n",
              "    </tr>\n",
              "    <tr>\n",
              "      <th>1080</th>\n",
              "      <td>SYMPTOMS when U are in love: \"1.U like listeni...</td>\n",
              "      <td>0</td>\n",
              "    </tr>\n",
              "    <tr>\n",
              "      <th>1081</th>\n",
              "      <td>Great. Have a safe trip. Dont panic surrender ...</td>\n",
              "      <td>0</td>\n",
              "    </tr>\n",
              "  </tbody>\n",
              "</table>\n",
              "<p>1082 rows × 2 columns</p>\n",
              "</div>\n",
              "      <button class=\"colab-df-convert\" onclick=\"convertToInteractive('df-fc2af56c-55dc-44c6-a02e-2d795bbb8201')\"\n",
              "              title=\"Convert this dataframe to an interactive table.\"\n",
              "              style=\"display:none;\">\n",
              "        \n",
              "  <svg xmlns=\"http://www.w3.org/2000/svg\" height=\"24px\"viewBox=\"0 0 24 24\"\n",
              "       width=\"24px\">\n",
              "    <path d=\"M0 0h24v24H0V0z\" fill=\"none\"/>\n",
              "    <path d=\"M18.56 5.44l.94 2.06.94-2.06 2.06-.94-2.06-.94-.94-2.06-.94 2.06-2.06.94zm-11 1L8.5 8.5l.94-2.06 2.06-.94-2.06-.94L8.5 2.5l-.94 2.06-2.06.94zm10 10l.94 2.06.94-2.06 2.06-.94-2.06-.94-.94-2.06-.94 2.06-2.06.94z\"/><path d=\"M17.41 7.96l-1.37-1.37c-.4-.4-.92-.59-1.43-.59-.52 0-1.04.2-1.43.59L10.3 9.45l-7.72 7.72c-.78.78-.78 2.05 0 2.83L4 21.41c.39.39.9.59 1.41.59.51 0 1.02-.2 1.41-.59l7.78-7.78 2.81-2.81c.8-.78.8-2.07 0-2.86zM5.41 20L4 18.59l7.72-7.72 1.47 1.35L5.41 20z\"/>\n",
              "  </svg>\n",
              "      </button>\n",
              "      \n",
              "  <style>\n",
              "    .colab-df-container {\n",
              "      display:flex;\n",
              "      flex-wrap:wrap;\n",
              "      gap: 12px;\n",
              "    }\n",
              "\n",
              "    .colab-df-convert {\n",
              "      background-color: #E8F0FE;\n",
              "      border: none;\n",
              "      border-radius: 50%;\n",
              "      cursor: pointer;\n",
              "      display: none;\n",
              "      fill: #1967D2;\n",
              "      height: 32px;\n",
              "      padding: 0 0 0 0;\n",
              "      width: 32px;\n",
              "    }\n",
              "\n",
              "    .colab-df-convert:hover {\n",
              "      background-color: #E2EBFA;\n",
              "      box-shadow: 0px 1px 2px rgba(60, 64, 67, 0.3), 0px 1px 3px 1px rgba(60, 64, 67, 0.15);\n",
              "      fill: #174EA6;\n",
              "    }\n",
              "\n",
              "    [theme=dark] .colab-df-convert {\n",
              "      background-color: #3B4455;\n",
              "      fill: #D2E3FC;\n",
              "    }\n",
              "\n",
              "    [theme=dark] .colab-df-convert:hover {\n",
              "      background-color: #434B5C;\n",
              "      box-shadow: 0px 1px 3px 1px rgba(0, 0, 0, 0.15);\n",
              "      filter: drop-shadow(0px 1px 2px rgba(0, 0, 0, 0.3));\n",
              "      fill: #FFFFFF;\n",
              "    }\n",
              "  </style>\n",
              "\n",
              "      <script>\n",
              "        const buttonEl =\n",
              "          document.querySelector('#df-fc2af56c-55dc-44c6-a02e-2d795bbb8201 button.colab-df-convert');\n",
              "        buttonEl.style.display =\n",
              "          google.colab.kernel.accessAllowed ? 'block' : 'none';\n",
              "\n",
              "        async function convertToInteractive(key) {\n",
              "          const element = document.querySelector('#df-fc2af56c-55dc-44c6-a02e-2d795bbb8201');\n",
              "          const dataTable =\n",
              "            await google.colab.kernel.invokeFunction('convertToInteractive',\n",
              "                                                     [key], {});\n",
              "          if (!dataTable) return;\n",
              "\n",
              "          const docLinkHtml = 'Like what you see? Visit the ' +\n",
              "            '<a target=\"_blank\" href=https://colab.research.google.com/notebooks/data_table.ipynb>data table notebook</a>'\n",
              "            + ' to learn more about interactive tables.';\n",
              "          element.innerHTML = '';\n",
              "          dataTable['output_type'] = 'display_data';\n",
              "          await google.colab.output.renderOutput(dataTable, element);\n",
              "          const docLink = document.createElement('div');\n",
              "          docLink.innerHTML = docLinkHtml;\n",
              "          element.appendChild(docLink);\n",
              "        }\n",
              "      </script>\n",
              "    </div>\n",
              "  </div>\n",
              "  "
            ]
          },
          "metadata": {},
          "execution_count": 78
        }
      ]
    },
    {
      "cell_type": "markdown",
      "source": [
        "Collecting the data from message body column and storing it in msg variable"
      ],
      "metadata": {
        "id": "_tcEQ1j7W54b"
      }
    },
    {
      "cell_type": "code",
      "source": [
        "msg=df.Message_body\n",
        "msg"
      ],
      "metadata": {
        "colab": {
          "base_uri": "https://localhost:8080/"
        },
        "id": "VZuIYNmrWvVW",
        "outputId": "4a9bb3aa-720f-4754-b951-5d9179a6f902"
      },
      "execution_count": null,
      "outputs": [
        {
          "output_type": "execute_result",
          "data": {
            "text/plain": [
              "0                              Rofl. Its true to its name\n",
              "1       The guy did some bitching but I acted like i'd...\n",
              "2       Pity, * was in mood for that. So...any other s...\n",
              "3                    Will ü b going to esplanade fr home?\n",
              "4       This is the 2nd time we have tried 2 contact u...\n",
              "                              ...                        \n",
              "1077    7 wonders in My WORLD 7th You 6th Ur style 5th...\n",
              "1078    Try to do something dear. You read something f...\n",
              "1079    Sun ah... Thk mayb can if dun have anythin on....\n",
              "1080    SYMPTOMS when U are in love: \"1.U like listeni...\n",
              "1081    Great. Have a safe trip. Dont panic surrender ...\n",
              "Name: Message_body, Length: 1082, dtype: object"
            ]
          },
          "metadata": {},
          "execution_count": 79
        }
      ]
    },
    {
      "cell_type": "markdown",
      "source": [
        "Removing the special characters"
      ],
      "metadata": {
        "id": "b7SRH-73lFfA"
      }
    },
    {
      "cell_type": "code",
      "source": [
        "msg=msg.str.replace('[^A-Za-z-0-9]+', ' ')\n",
        "msg"
      ],
      "metadata": {
        "colab": {
          "base_uri": "https://localhost:8080/"
        },
        "id": "06VSLilJXDbK",
        "outputId": "8d727f68-356c-48d9-b26a-4e9601108ffd"
      },
      "execution_count": null,
      "outputs": [
        {
          "output_type": "stream",
          "name": "stderr",
          "text": [
            "<ipython-input-80-4feb8d75dd28>:1: FutureWarning: The default value of regex will change from True to False in a future version.\n",
            "  msg=msg.str.replace('[^A-Za-z-0-9]+', ' ')\n"
          ]
        },
        {
          "output_type": "execute_result",
          "data": {
            "text/plain": [
              "0                               Rofl Its true to its name\n",
              "1       The guy did some bitching but I acted like i d...\n",
              "2       Pity was in mood for that So any other suggest...\n",
              "3                      Will b going to esplanade fr home \n",
              "4       This is the 2nd time we have tried 2 contact u...\n",
              "                              ...                        \n",
              "1077    7 wonders in My WORLD 7th You 6th Ur style 5th...\n",
              "1078    Try to do something dear You read something fo...\n",
              "1079    Sun ah Thk mayb can if dun have anythin on Thk...\n",
              "1080    SYMPTOMS when U are in love 1 U like listening...\n",
              "1081     Great Have a safe trip Dont panic surrender all \n",
              "Name: Message_body, Length: 1082, dtype: object"
            ]
          },
          "metadata": {},
          "execution_count": 80
        }
      ]
    },
    {
      "cell_type": "code",
      "source": [
        "import nltk\n",
        "nltk.download('punkt')"
      ],
      "metadata": {
        "colab": {
          "base_uri": "https://localhost:8080/"
        },
        "id": "uhMTnOaIY6GR",
        "outputId": "7140eda4-6520-4622-c684-127fa614644e"
      },
      "execution_count": null,
      "outputs": [
        {
          "output_type": "stream",
          "name": "stderr",
          "text": [
            "[nltk_data] Downloading package punkt to /root/nltk_data...\n",
            "[nltk_data]   Package punkt is already up-to-date!\n"
          ]
        },
        {
          "output_type": "execute_result",
          "data": {
            "text/plain": [
              "True"
            ]
          },
          "metadata": {},
          "execution_count": 81
        }
      ]
    },
    {
      "cell_type": "markdown",
      "source": [
        "## Stemming"
      ],
      "metadata": {
        "id": "Es-Sdr6ZlYGW"
      }
    },
    {
      "cell_type": "code",
      "source": [
        "from nltk.stem import SnowballStemmer\n",
        "stemmer=SnowballStemmer('english')\n",
        "from nltk.tokenize import word_tokenize\n",
        "msg=msg.apply(lambda x:[stemmer.stem(i.lower())  for i in word_tokenize(x)]).apply(lambda x:' '.join(x))\n",
        "msg"
      ],
      "metadata": {
        "colab": {
          "base_uri": "https://localhost:8080/"
        },
        "id": "kIjSStroXhkr",
        "outputId": "45e1bc5f-f9ba-404e-a0b7-31e57942c117"
      },
      "execution_count": null,
      "outputs": [
        {
          "output_type": "execute_result",
          "data": {
            "text/plain": [
              "0                                 rofl it true to it name\n",
              "1       the guy did some bitch but i act like i d be i...\n",
              "2          piti was in mood for that so ani other suggest\n",
              "3                           will b go to esplanad fr home\n",
              "4       this is the 2nd time we have tri 2 contact u u...\n",
              "                              ...                        \n",
              "1077    7 wonder in my world 7th you 6th ur style 5th ...\n",
              "1078       tri to do someth dear you read someth for exam\n",
              "1079    sun ah thk mayb can if dun have anythin on thk...\n",
              "1080    symptom when u are in love 1 u like listen son...\n",
              "1081        great have a safe trip dont panic surrend all\n",
              "Name: Message_body, Length: 1082, dtype: object"
            ]
          },
          "metadata": {},
          "execution_count": 82
        }
      ]
    },
    {
      "cell_type": "markdown",
      "source": [
        "## Applying stopwords"
      ],
      "metadata": {
        "id": "Gs0ttSEXlo2M"
      }
    },
    {
      "cell_type": "markdown",
      "source": [
        "In this we are tokenizing all words and comparing it with stopwords .If it is a stopword, then it is removed."
      ],
      "metadata": {
        "id": "jyzONgXClhpK"
      }
    },
    {
      "cell_type": "code",
      "source": [
        "from nltk.stem.snowball import stopwords\n",
        "nltk.download('stopwords')\n",
        "stop=stopwords.words('english')\n",
        "print(stop)"
      ],
      "metadata": {
        "colab": {
          "base_uri": "https://localhost:8080/"
        },
        "id": "Bv9pZaZQaQAS",
        "outputId": "127e5fbc-44bd-4196-dd86-b893b3d54c67"
      },
      "execution_count": null,
      "outputs": [
        {
          "output_type": "stream",
          "name": "stdout",
          "text": [
            "['i', 'me', 'my', 'myself', 'we', 'our', 'ours', 'ourselves', 'you', \"you're\", \"you've\", \"you'll\", \"you'd\", 'your', 'yours', 'yourself', 'yourselves', 'he', 'him', 'his', 'himself', 'she', \"she's\", 'her', 'hers', 'herself', 'it', \"it's\", 'its', 'itself', 'they', 'them', 'their', 'theirs', 'themselves', 'what', 'which', 'who', 'whom', 'this', 'that', \"that'll\", 'these', 'those', 'am', 'is', 'are', 'was', 'were', 'be', 'been', 'being', 'have', 'has', 'had', 'having', 'do', 'does', 'did', 'doing', 'a', 'an', 'the', 'and', 'but', 'if', 'or', 'because', 'as', 'until', 'while', 'of', 'at', 'by', 'for', 'with', 'about', 'against', 'between', 'into', 'through', 'during', 'before', 'after', 'above', 'below', 'to', 'from', 'up', 'down', 'in', 'out', 'on', 'off', 'over', 'under', 'again', 'further', 'then', 'once', 'here', 'there', 'when', 'where', 'why', 'how', 'all', 'any', 'both', 'each', 'few', 'more', 'most', 'other', 'some', 'such', 'no', 'nor', 'not', 'only', 'own', 'same', 'so', 'than', 'too', 'very', 's', 't', 'can', 'will', 'just', 'don', \"don't\", 'should', \"should've\", 'now', 'd', 'll', 'm', 'o', 're', 've', 'y', 'ain', 'aren', \"aren't\", 'couldn', \"couldn't\", 'didn', \"didn't\", 'doesn', \"doesn't\", 'hadn', \"hadn't\", 'hasn', \"hasn't\", 'haven', \"haven't\", 'isn', \"isn't\", 'ma', 'mightn', \"mightn't\", 'mustn', \"mustn't\", 'needn', \"needn't\", 'shan', \"shan't\", 'shouldn', \"shouldn't\", 'wasn', \"wasn't\", 'weren', \"weren't\", 'won', \"won't\", 'wouldn', \"wouldn't\"]\n"
          ]
        },
        {
          "output_type": "stream",
          "name": "stderr",
          "text": [
            "[nltk_data] Downloading package stopwords to /root/nltk_data...\n",
            "[nltk_data]   Package stopwords is already up-to-date!\n"
          ]
        }
      ]
    },
    {
      "cell_type": "code",
      "source": [
        "msg=msg.apply(lambda x:[i for i in word_tokenize(x) if i not in stop]).apply(lambda x:\" \".join(x))\n",
        "msg"
      ],
      "metadata": {
        "colab": {
          "base_uri": "https://localhost:8080/"
        },
        "id": "RkYtCottaj3V",
        "outputId": "4bb51a32-75b4-424e-ac00-4e61da34e66c"
      },
      "execution_count": null,
      "outputs": [
        {
          "output_type": "execute_result",
          "data": {
            "text/plain": [
              "0                                          rofl true name\n",
              "1       guy bitch act like interest buy someth els nex...\n",
              "2                                   piti mood ani suggest\n",
              "3                                   b go esplanad fr home\n",
              "4       2nd time tri 2 contact u u 750 pound prize 2 c...\n",
              "                              ...                        \n",
              "1077    7 wonder world 7th 6th ur style 5th ur smile 4...\n",
              "1078                     tri someth dear read someth exam\n",
              "1079    sun ah thk mayb dun anythin thk book e lesson ...\n",
              "1080    symptom u love 1 u like listen song 2 u get st...\n",
              "1081                   great safe trip dont panic surrend\n",
              "Name: Message_body, Length: 1082, dtype: object"
            ]
          },
          "metadata": {},
          "execution_count": 84
        }
      ]
    },
    {
      "cell_type": "markdown",
      "source": [
        "Removing words less than 3 letters as that does not contribute largely in the analysis"
      ],
      "metadata": {
        "id": "TR81N2N6lzhZ"
      }
    },
    {
      "cell_type": "code",
      "source": [
        "msg=msg.apply(lambda x:[i for i in word_tokenize(x) if len(i)>=3]).apply(lambda x:\" \".join(x))\n",
        "msg"
      ],
      "metadata": {
        "colab": {
          "base_uri": "https://localhost:8080/"
        },
        "id": "iPV-7zjYcv6c",
        "outputId": "eed036fa-1961-452c-f3df-63126de6e6a8"
      },
      "execution_count": null,
      "outputs": [
        {
          "output_type": "execute_result",
          "data": {
            "text/plain": [
              "0                                          rofl true name\n",
              "1       guy bitch act like interest buy someth els nex...\n",
              "2                                   piti mood ani suggest\n",
              "3                                           esplanad home\n",
              "4       2nd time tri contact 750 pound prize claim eas...\n",
              "                              ...                        \n",
              "1077    wonder world 7th 6th style 5th smile 4th perso...\n",
              "1078                     tri someth dear read someth exam\n",
              "1079    sun thk mayb dun anythin thk book lesson pilat...\n",
              "1080    symptom love like listen song get stop see nam...\n",
              "1081                   great safe trip dont panic surrend\n",
              "Name: Message_body, Length: 1082, dtype: object"
            ]
          },
          "metadata": {},
          "execution_count": 85
        }
      ]
    },
    {
      "cell_type": "markdown",
      "source": [
        "## Converting into Numeric value"
      ],
      "metadata": {
        "id": "tvZ5I5KqmNKP"
      }
    },
    {
      "cell_type": "markdown",
      "source": [
        "In this we are using TF-IDF(Term frequency-Inverse document frequency) vectorization technique."
      ],
      "metadata": {
        "id": "ZiN9yHWEmPyG"
      }
    },
    {
      "cell_type": "code",
      "source": [
        "from sklearn.feature_extraction.text import TfidfVectorizer\n",
        "vec=TfidfVectorizer()\n",
        "data_vec=vec.fit_transform(msg)"
      ],
      "metadata": {
        "id": "IPCiy2Nsdey0"
      },
      "execution_count": null,
      "outputs": []
    },
    {
      "cell_type": "code",
      "source": [
        "print(data_vec)"
      ],
      "metadata": {
        "colab": {
          "base_uri": "https://localhost:8080/"
        },
        "id": "GMkpPPTwd_Nl",
        "outputId": "47cb91e5-7884-48a8-ffc6-fcb3b5b5ffec"
      },
      "execution_count": null,
      "outputs": [
        {
          "output_type": "stream",
          "name": "stdout",
          "text": [
            "  (0, 1757)\t0.5086856793431559\n",
            "  (0, 2624)\t0.5352804139572925\n",
            "  (0, 2163)\t0.6743246681420617\n",
            "  (1, 1122)\t0.1977601804079742\n",
            "  (1, 1167)\t0.32809784984076795\n",
            "  (1, 2763)\t0.22799692523276513\n",
            "  (1, 1790)\t0.26514476216742267\n",
            "  (1, 970)\t0.30392006451010634\n",
            "  (1, 2349)\t0.2751324774651613\n",
            "  (1, 619)\t0.2751324774651613\n",
            "  (1, 1395)\t0.3187189191538061\n",
            "  (1, 1537)\t0.2174075457753962\n",
            "  (1, 333)\t0.35437558793533497\n",
            "  (1, 543)\t0.3752334020731641\n",
            "  (1, 1237)\t0.26826339572857744\n",
            "  (2, 2448)\t0.5165656915002457\n",
            "  (2, 402)\t0.36716239650585775\n",
            "  (2, 1713)\t0.5469696796701571\n",
            "  (2, 1943)\t0.5469696796701571\n",
            "  (3, 1310)\t0.5461172911588754\n",
            "  (3, 997)\t0.8377087228251189\n",
            "  (4, 1767)\t0.28957257241482465\n",
            "  (4, 605)\t0.27747991548849266\n",
            "  (4, 1679)\t0.23896382245948036\n",
            "  (4, 1915)\t0.23495747859474786\n",
            "  :\t:\n",
            "  (1079, 1865)\t0.2706898396742334\n",
            "  (1079, 1729)\t0.2706898396742334\n",
            "  (1079, 2454)\t0.26153957460502464\n",
            "  (1079, 1526)\t0.24774213284441401\n",
            "  (1079, 564)\t0.2374366876682329\n",
            "  (1079, 2545)\t0.49548426568882803\n",
            "  (1079, 1647)\t0.2164896791883823\n",
            "  (1079, 945)\t0.22235769842186565\n",
            "  (1080, 526)\t0.37025990523411034\n",
            "  (1080, 2482)\t0.37025990523411034\n",
            "  (1080, 1548)\t0.3237491068715447\n",
            "  (1080, 401)\t0.3237491068715447\n",
            "  (1080, 2353)\t0.33507584451064965\n",
            "  (1080, 2417)\t0.2208005656522519\n",
            "  (1080, 1587)\t0.2249749608215637\n",
            "  (1080, 2227)\t0.21572034231434808\n",
            "  (1080, 1183)\t0.36602572795540395\n",
            "  (1080, 1537)\t0.21452593732655792\n",
            "  (1080, 1757)\t0.27931042764086844\n",
            "  (1081, 2467)\t0.4791624063199324\n",
            "  (1081, 1890)\t0.4791624063199324\n",
            "  (1081, 921)\t0.30819278764115643\n",
            "  (1081, 2185)\t0.4525275695553008\n",
            "  (1081, 2621)\t0.3734390895085233\n",
            "  (1081, 1224)\t0.31872563060534453\n"
          ]
        }
      ]
    },
    {
      "cell_type": "code",
      "source": [
        "data_vec.shape"
      ],
      "metadata": {
        "colab": {
          "base_uri": "https://localhost:8080/"
        },
        "id": "DmZ3LqEYeDOW",
        "outputId": "81267b2b-5631-49e0-acae-773f0f565bdc"
      },
      "execution_count": null,
      "outputs": [
        {
          "output_type": "execute_result",
          "data": {
            "text/plain": [
              "(1082, 2877)"
            ]
          },
          "metadata": {},
          "execution_count": 88
        }
      ]
    },
    {
      "cell_type": "markdown",
      "source": [
        "Converting the data into an array and asssiging into variable y"
      ],
      "metadata": {
        "id": "5FccEnazeQKb"
      }
    },
    {
      "cell_type": "code",
      "source": [
        "y=df['Label'].values\n",
        "y"
      ],
      "metadata": {
        "colab": {
          "base_uri": "https://localhost:8080/"
        },
        "id": "WmkKOD2GeKTU",
        "outputId": "d255eb74-d60d-4d61-b01e-abe1d82d04b8"
      },
      "execution_count": null,
      "outputs": [
        {
          "output_type": "execute_result",
          "data": {
            "text/plain": [
              "array([0, 0, 0, ..., 0, 0, 0])"
            ]
          },
          "metadata": {},
          "execution_count": 89
        }
      ]
    },
    {
      "cell_type": "markdown",
      "source": [
        "splitting the data into training and testing data"
      ],
      "metadata": {
        "id": "rUrYlknnerJO"
      }
    },
    {
      "cell_type": "code",
      "source": [
        "from sklearn.model_selection import train_test_split\n",
        "x_train,x_test,y_train,y_test=train_test_split(data_vec,y,test_size=0.30,random_state=42)"
      ],
      "metadata": {
        "id": "wq-_BS6_ekRR"
      },
      "execution_count": null,
      "outputs": []
    },
    {
      "cell_type": "markdown",
      "source": [
        "# Creating the model"
      ],
      "metadata": {
        "id": "0-PWGVfDfRn6"
      }
    },
    {
      "cell_type": "code",
      "source": [
        "from sklearn import svm\n",
        "from sklearn.naive_bayes import MultinomialNB\n",
        "from sklearn.ensemble import RandomForestClassifier\n",
        "from sklearn.ensemble import AdaBoostClassifier\n",
        "svm_model=svm.SVC()\n",
        "NB_model=MultinomialNB()\n",
        "RF_model=RandomForestClassifier()\n",
        "AB_model=AdaBoostClassifier()\n",
        "Ist_model=[svm_model,NB_model,RF_model,AB_model]"
      ],
      "metadata": {
        "id": "_rOJAkn8fMtx"
      },
      "execution_count": null,
      "outputs": []
    },
    {
      "cell_type": "markdown",
      "source": [
        "Prediction"
      ],
      "metadata": {
        "id": "yLUqRWgxfQHt"
      }
    },
    {
      "cell_type": "code",
      "source": [
        "from sklearn.metrics import ConfusionMatrixDisplay,classification_report\n",
        "for i in Ist_model:\n",
        "  print(i)\n",
        "  i.fit(x_train,y_train)\n",
        "  y_pred=i.predict(x_test)\n",
        "  print(\"*\"*100)\n",
        "  print(classification_report(y_test,y_pred))\n",
        "  print('*'*100)\n",
        "  print('*'*100)\n",
        "  print(ConfusionMatrixDisplay.from_predictions(y_test,y_pred))"
      ],
      "metadata": {
        "colab": {
          "base_uri": "https://localhost:8080/",
          "height": 1000
        },
        "id": "BkzXPJQ9g0UN",
        "outputId": "217fba3b-42ab-4774-9607-92860aab5053"
      },
      "execution_count": null,
      "outputs": [
        {
          "output_type": "stream",
          "name": "stdout",
          "text": [
            "SVC()\n",
            "****************************************************************************************************\n",
            "              precision    recall  f1-score   support\n",
            "\n",
            "           0       0.92      1.00      0.96       269\n",
            "           1       1.00      0.59      0.74        56\n",
            "\n",
            "    accuracy                           0.93       325\n",
            "   macro avg       0.96      0.79      0.85       325\n",
            "weighted avg       0.93      0.93      0.92       325\n",
            "\n",
            "****************************************************************************************************\n",
            "****************************************************************************************************\n",
            "<sklearn.metrics._plot.confusion_matrix.ConfusionMatrixDisplay object at 0x7f1519b74a60>\n",
            "MultinomialNB()\n",
            "****************************************************************************************************\n",
            "              precision    recall  f1-score   support\n",
            "\n",
            "           0       0.93      1.00      0.96       269\n",
            "           1       1.00      0.62      0.77        56\n",
            "\n",
            "    accuracy                           0.94       325\n",
            "   macro avg       0.96      0.81      0.87       325\n",
            "weighted avg       0.94      0.94      0.93       325\n",
            "\n",
            "****************************************************************************************************\n",
            "****************************************************************************************************\n",
            "<sklearn.metrics._plot.confusion_matrix.ConfusionMatrixDisplay object at 0x7f1519914c10>\n",
            "RandomForestClassifier()\n",
            "****************************************************************************************************\n",
            "              precision    recall  f1-score   support\n",
            "\n",
            "           0       0.95      1.00      0.98       269\n",
            "           1       1.00      0.77      0.87        56\n",
            "\n",
            "    accuracy                           0.96       325\n",
            "   macro avg       0.98      0.88      0.92       325\n",
            "weighted avg       0.96      0.96      0.96       325\n",
            "\n",
            "****************************************************************************************************\n",
            "****************************************************************************************************\n",
            "<sklearn.metrics._plot.confusion_matrix.ConfusionMatrixDisplay object at 0x7f1519914c10>\n",
            "AdaBoostClassifier()\n",
            "****************************************************************************************************\n",
            "              precision    recall  f1-score   support\n",
            "\n",
            "           0       0.96      0.98      0.97       269\n",
            "           1       0.88      0.79      0.83        56\n",
            "\n",
            "    accuracy                           0.94       325\n",
            "   macro avg       0.92      0.88      0.90       325\n",
            "weighted avg       0.94      0.94      0.94       325\n",
            "\n",
            "****************************************************************************************************\n",
            "****************************************************************************************************\n",
            "<sklearn.metrics._plot.confusion_matrix.ConfusionMatrixDisplay object at 0x7f151fbc7eb0>\n"
          ]
        },
        {
          "output_type": "display_data",
          "data": {
            "text/plain": [
              "<Figure size 432x288 with 2 Axes>"
            ],
            "image/png": "[encoded data removed]"
          },
          "metadata": {
            "needs_background": "light"
          }
        },
        {
          "output_type": "display_data",
          "data": {
            "text/plain": [
              "<Figure size 432x288 with 2 Axes>"
            ],
            "image/png": "[encoded data removed]"
          },
          "metadata": {
            "needs_background": "light"
          }
        },
        {
          "output_type": "display_data",
          "data": {
            "text/plain": [
              "<Figure size 432x288 with 2 Axes>"
            ],
            "image/png": "[encoded data removed]"
          },
          "metadata": {
            "needs_background": "light"
          }
        },
        {
          "output_type": "display_data",
          "data": {
            "text/plain": [
              "<Figure size 432x288 with 2 Axes>"
            ],
            "image/png": "[encoded data removed]"
          },
          "metadata": {
            "needs_background": "light"
          }
        }
      ]
    }
  ]
}